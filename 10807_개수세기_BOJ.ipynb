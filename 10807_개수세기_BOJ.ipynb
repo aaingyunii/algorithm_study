{
 "cells": [
  {
   "cell_type": "markdown",
   "id": "be7bda3f",
   "metadata": {},
   "source": [
    "총 N개의 정수가 주어졌을 때, 정수 v가 몇 개인지 구하는 프로그램을 작성하시오.\n",
    "\n",
    "**입력**\n",
    "첫째 줄에 정수의 개수 N(1 ≤ N ≤ 100)이 주어진다. 둘째 줄에는 정수가 공백으로 구분되어져있다. 셋째 줄에는 찾으려고 하는 정수 v가 주어진다. 입력으로 주어지는 정수와 v는 -100보다 크거나 같으며, 100보다 작거나 같다.\n",
    "\n",
    "**출력**<br>\n",
    "첫째 줄에 입력으로 주어진 N개의 정수 중에 v가 몇 개인지 출력한다.\n",
    "<br><br>\n",
    "예제 입력 1<br>\n",
    "11<br>\n",
    "1 4 1 2 4 2 4 2 3 4 4<br>\n",
    "2<br>\n",
    "예제 출력 1 <br>\n",
    "3<br><br>\n",
    "예제 입력 2 <br>\n",
    "11<br>\n",
    "1 4 1 2 4 2 4 2 3 4 4<br>\n",
    "5<br>\n",
    "예제 출력 2 <br>\n",
    "0<br>"
   ]
  },
  {
   "cell_type": "code",
   "execution_count": 17,
   "id": "35fc974d",
   "metadata": {
    "scrolled": true
   },
   "outputs": [
    {
     "name": "stdout",
     "output_type": "stream",
     "text": [
      "11\n"
     ]
    }
   ],
   "source": [
    "n =int(input())"
   ]
  },
  {
   "cell_type": "code",
   "execution_count": 18,
   "id": "04bb47b5",
   "metadata": {
    "scrolled": true
   },
   "outputs": [
    {
     "name": "stdout",
     "output_type": "stream",
     "text": [
      "1 4 1 2 4 2 4 2 3 4 4\n"
     ]
    }
   ],
   "source": [
    "nums = list(map(int,input().split()))"
   ]
  },
  {
   "cell_type": "code",
   "execution_count": 19,
   "id": "55436fb6",
   "metadata": {
    "scrolled": true
   },
   "outputs": [
    {
     "name": "stdout",
     "output_type": "stream",
     "text": [
      "2\n"
     ]
    }
   ],
   "source": [
    "find_num = int(input())"
   ]
  },
  {
   "cell_type": "code",
   "execution_count": 20,
   "id": "8d4c26dc",
   "metadata": {},
   "outputs": [
    {
     "name": "stdout",
     "output_type": "stream",
     "text": [
      "3\n"
     ]
    }
   ],
   "source": [
    "print(nums.count(find_num))"
   ]
  },
  {
   "cell_type": "markdown",
   "id": "c33669a3",
   "metadata": {},
   "source": [
    "# 제출 정답"
   ]
  },
  {
   "cell_type": "code",
   "execution_count": 21,
   "id": "19fcf756",
   "metadata": {},
   "outputs": [
    {
     "name": "stdout",
     "output_type": "stream",
     "text": [
      "11\n",
      "1 4 1 2 4 2 4 2 3 4 4\n",
      "2\n",
      "3\n"
     ]
    }
   ],
   "source": [
    "n =int(input())\n",
    "nums = list(map(int,input().split()))\n",
    "find_num = int(input())\n",
    "print(nums.count(find_num))"
   ]
  }
 ],
 "metadata": {
  "kernelspec": {
   "display_name": "Python 3 (ipykernel)",
   "language": "python",
   "name": "python3"
  },
  "language_info": {
   "codemirror_mode": {
    "name": "ipython",
    "version": 3
   },
   "file_extension": ".py",
   "mimetype": "text/x-python",
   "name": "python",
   "nbconvert_exporter": "python",
   "pygments_lexer": "ipython3",
   "version": "3.10.11"
  }
 },
 "nbformat": 4,
 "nbformat_minor": 5
}
