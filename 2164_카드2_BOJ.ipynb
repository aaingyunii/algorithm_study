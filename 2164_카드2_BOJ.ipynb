{
 "cells": [
  {
   "cell_type": "markdown",
   "id": "f22449e8",
   "metadata": {},
   "source": [
    "**문제**<br>\n",
    "N장의 카드가 있다. 각각의 카드는 차례로 1부터 N까지의 번호가 붙어 있으며, 1번 카드가 제일 위에, N번 카드가 제일 아래인 상태로 순서대로 카드가 놓여 있다.\n",
    "\n",
    "이제 다음과 같은 동작을 카드가 한 장 남을 때까지 반복하게 된다. 우선, 제일 위에 있는 카드를 바닥에 버린다. 그 다음, 제일 위에 있는 카드를 제일 아래에 있는 카드 밑으로 옮긴다.\n",
    "\n",
    "예를 들어 N=4인 경우를 생각해 보자. 카드는 제일 위에서부터 1234 의 순서로 놓여있다. 1을 버리면 234가 남는다. 여기서 2를 제일 아래로 옮기면 342가 된다. 3을 버리면 42가 되고, 4를 밑으로 옮기면 24가 된다. 마지막으로 2를 버리고 나면, 남는 카드는 4가 된다.\n",
    "\n",
    "N이 주어졌을 때, 제일 마지막에 남게 되는 카드를 구하는 프로그램을 작성하시오.\n",
    "\n",
    "**입력**<br>\n",
    "첫째 줄에 정수 N(1 ≤ N ≤ 500,000)이 주어진다.\n",
    "\n",
    "**출력**<br>\n",
    "첫째 줄에 남게 되는 카드의 번호를 출력한다.\n",
    "<br><br>\n",
    "**예제 입력 1** <br>\n",
    "6<br>\n",
    "**예제 출력 1** <br>\n",
    "4"
   ]
  },
  {
   "cell_type": "markdown",
   "id": "6c41c3cc",
   "metadata": {},
   "source": [
    "# 오답 (시간 초과...)\n"
   ]
  },
  {
   "cell_type": "code",
   "execution_count": 18,
   "id": "4d7df382",
   "metadata": {},
   "outputs": [
    {
     "name": "stdout",
     "output_type": "stream",
     "text": [
      "6\n",
      "4\n"
     ]
    }
   ],
   "source": [
    "N = int(input())\n",
    "q_N = list(range(1,N+1))\n",
    "\n",
    "while 1 :\n",
    "    if len(q_N)==1:\n",
    "        break\n",
    "    else:\n",
    "        q_N.pop(0)\n",
    "        q_N.append(q_N[0])\n",
    "        q_N.pop(0)\n",
    "print(q_N[0])\n",
    "\n",
    "## 시간초과... 흠..."
   ]
  },
  {
   "cell_type": "markdown",
   "id": "ae88288c",
   "metadata": {},
   "source": [
    "# 제출 정답"
   ]
  },
  {
   "cell_type": "code",
   "execution_count": 33,
   "id": "83bb7a02",
   "metadata": {},
   "outputs": [
    {
     "name": "stdout",
     "output_type": "stream",
     "text": [
      "6\n",
      "4\n"
     ]
    }
   ],
   "source": [
    "# Queue를 사용해보자!\n",
    "from collections import deque\n",
    "\n",
    "N = int(input())\n",
    "q = deque(range(1,N+1))\n",
    "while len(q) > 1:\n",
    "    q.popleft()\n",
    "    q.append(q[0])\n",
    "    q.popleft()\n",
    "print(q[0])"
   ]
  },
  {
   "cell_type": "code",
   "execution_count": null,
   "id": "f3533b2d",
   "metadata": {},
   "outputs": [],
   "source": []
  },
  {
   "cell_type": "code",
   "execution_count": null,
   "id": "9d29d28f",
   "metadata": {},
   "outputs": [],
   "source": []
  },
  {
   "cell_type": "code",
   "execution_count": null,
   "id": "90de2ffb",
   "metadata": {},
   "outputs": [],
   "source": []
  },
  {
   "cell_type": "code",
   "execution_count": null,
   "id": "aa949106",
   "metadata": {},
   "outputs": [],
   "source": []
  },
  {
   "cell_type": "code",
   "execution_count": 29,
   "id": "c47b854d",
   "metadata": {},
   "outputs": [
    {
     "data": {
      "text/plain": [
       "2"
      ]
     },
     "execution_count": 29,
     "metadata": {},
     "output_type": "execute_result"
    }
   ],
   "source": [
    "test_q = deque(range(1,6))\n",
    "test_q.popleft()\n",
    "test_q.append(test_q[0])\n",
    "test_q.popleft()"
   ]
  },
  {
   "cell_type": "code",
   "execution_count": 30,
   "id": "c27041a7",
   "metadata": {},
   "outputs": [
    {
     "data": {
      "text/plain": [
       "deque([3, 4, 5, 2])"
      ]
     },
     "execution_count": 30,
     "metadata": {},
     "output_type": "execute_result"
    }
   ],
   "source": [
    "test_q"
   ]
  },
  {
   "cell_type": "code",
   "execution_count": 11,
   "id": "8653ea38",
   "metadata": {},
   "outputs": [
    {
     "name": "stdout",
     "output_type": "stream",
     "text": [
      "[3, 4, 2]\n"
     ]
    }
   ],
   "source": [
    "a=[1,2,3,4]\n",
    "a.pop(0)\n",
    "a.append(a[0])\n",
    "a.pop(0)\n",
    "print(a)"
   ]
  }
 ],
 "metadata": {
  "kernelspec": {
   "display_name": "Python 3 (ipykernel)",
   "language": "python",
   "name": "python3"
  },
  "language_info": {
   "codemirror_mode": {
    "name": "ipython",
    "version": 3
   },
   "file_extension": ".py",
   "mimetype": "text/x-python",
   "name": "python",
   "nbconvert_exporter": "python",
   "pygments_lexer": "ipython3",
   "version": "3.10.11"
  }
 },
 "nbformat": 4,
 "nbformat_minor": 5
}
